{
  "nbformat": 4,
  "nbformat_minor": 0,
  "metadata": {
    "colab": {
      "provenance": [],
      "authorship_tag": "ABX9TyMhJn2E5yGChGAGEJw9oaeR",
      "include_colab_link": true
    },
    "kernelspec": {
      "name": "python3",
      "display_name": "Python 3"
    },
    "language_info": {
      "name": "python"
    }
  },
  "cells": [
    {
      "cell_type": "markdown",
      "metadata": {
        "id": "view-in-github",
        "colab_type": "text"
      },
      "source": [
        "<a href=\"https://colab.research.google.com/github/iraneideml/exercicios-joy/blob/main/calculaidade.ipynb\" target=\"_parent\"><img src=\"https://colab.research.google.com/assets/colab-badge.svg\" alt=\"Open In Colab\"/></a>"
      ]
    },
    {
      "cell_type": "markdown",
      "source": [
        "Desenvolva um programa que recebe do usuário nome completo e ano de nascimento que seja entre 1922 e 2021.\n",
        "A partir dessas informações, o sistema mostrará o nome do usuário e a idade que completou, ou completará, no ano atual (2022).\n",
        "\n",
        "Caso o usuário não digite um número ou apareça um inválido no campo do ano, o sistema informará o erro e continuará perguntando até que um valor correto seja preenchido."
      ],
      "metadata": {
        "id": "AirINnu0XNrw"
      }
    },
    {
      "cell_type": "code",
      "source": [
        "#tratanto erro com if\n",
        "nome = str(input(\"Informe o nome: \"))\n",
        "anonasc = int(input(\"Informe ano de nascimento com 4 dígitos: \"))\n",
        "\n",
        "idade21 = 2021 - anonasc\n",
        "idade22 = 2022 - anonasc\n",
        "\n",
        "if anonasc < 1922 or anonasc > 2021:\n",
        "  print (\"Digite um ano entre 1922 e 2021! \")\n",
        "\n",
        "else:\n",
        "\n",
        "  print(nome, \"tem \", idade21, \"anos em 2021\", \"e terá \", idade22, \"anos em 2022.\")\n",
        "\n",
        "\n",
        "\n",
        "\n"
      ],
      "metadata": {
        "colab": {
          "base_uri": "https://localhost:8080/"
        },
        "id": "cSpKCHXJyAs_",
        "outputId": "89430b0d-2efe-4ee6-e853-3c0859712f4d"
      },
      "execution_count": 69,
      "outputs": [
        {
          "output_type": "stream",
          "name": "stdout",
          "text": [
            "Informe o nome: Maria da Silva\n",
            "Informe ano de nascimento com 4 dígitos: 1950\n",
            "Maria da Silva tem  71 anos em 2021 e terá  72 anos em 2022.\n"
          ]
        }
      ]
    },
    {
      "cell_type": "code",
      "source": [
        "#exercicio com usuário dando entrada\n",
        "\n",
        "from datetime import datetime, timedelta\n",
        "nome = str(input(\"Informe seu nome completo: \"))\n",
        "dn = (input(\"Informe sua data de nascimento no formato 'dd/mm/yyy: \"))\n",
        "\n",
        "#convertento data de entrada de string para formato data\n",
        "dn = datetime.strptime(dn, \"%d/%m/%Y\")\n",
        "\n",
        "#calculando idade\n",
        "idade = datetime.now() - dn\n",
        "\n",
        "print(\"Nome do usuário(a):\", nome, \", idade: \", idade)\n",
        "\n",
        "\n",
        "\n"
      ],
      "metadata": {
        "colab": {
          "base_uri": "https://localhost:8080/"
        },
        "id": "YDUvsEOeXOZ1",
        "outputId": "c16f6ef5-9775-4ddb-809a-7b6ce162df44"
      },
      "execution_count": 40,
      "outputs": [
        {
          "output_type": "stream",
          "name": "stdout",
          "text": [
            "Informe seu nome completo: irae\n",
            "Informe sua data de nascimento no formato 'dd/mm/yyy: 03/08/1980\n",
            "Nome do usuário(a): irae , idade:  15768 days, 16:58:19.065601\n"
          ]
        }
      ]
    }
  ]
}