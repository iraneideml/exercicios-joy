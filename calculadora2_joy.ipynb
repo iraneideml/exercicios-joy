{
  "nbformat": 4,
  "nbformat_minor": 0,
  "metadata": {
    "colab": {
      "provenance": [],
      "authorship_tag": "ABX9TyOZ+n1wCEfQOgCqiIvJFPA1",
      "include_colab_link": true
    },
    "kernelspec": {
      "name": "python3",
      "display_name": "Python 3"
    },
    "language_info": {
      "name": "python"
    }
  },
  "cells": [
    {
      "cell_type": "markdown",
      "metadata": {
        "id": "view-in-github",
        "colab_type": "text"
      },
      "source": [
        "<a href=\"https://colab.research.google.com/github/iraneideml/exercicios-joy/blob/main/calculadora2_joy.ipynb\" target=\"_parent\"><img src=\"https://colab.research.google.com/assets/colab-badge.svg\" alt=\"Open In Colab\"/></a>"
      ]
    },
    {
      "cell_type": "markdown",
      "source": [
        "Faça uma função calculadora que os números e as operações serão feitas pelo usuário. O código deve ficar rodando infinitamente até que o usuário escolha a opção de sair. No início, o programa mostrará a seguinte lista de operações:\n",
        "\n",
        "1: Soma\n",
        "2: Subtração\n",
        "3: Multiplicação\n",
        "4: Divisão\n",
        "0: Sair\n",
        "\n",
        "Digite o número para a operação correspondente e caso o usuário introduza qualquer outro, o sistema deve mostrar a mensagem “Essa opção não existe” e voltar ao menu de opções.\n",
        "\n",
        "Após a seleção, o sistema deve pedir para o usuário inserir o primeiro e segundo valor, um de cada. Depois precisa executar a operação e mostrar o resultado na tela. Quando o usuário escolher a opção “Sair”, o sistema irá parar.\n",
        "\n",
        "É necessário que o sistema mostre as opções sempre que finalizar uma operação e mostrar o resultado."
      ],
      "metadata": {
        "id": "bIC9nstM7Hby"
      }
    },
    {
      "cell_type": "code",
      "execution_count": 23,
      "metadata": {
        "colab": {
          "base_uri": "https://localhost:8080/"
        },
        "id": "f0f7WuY-7GkT",
        "outputId": "80f30339-ae3d-4163-b742-331b2ee8bdac"
      },
      "outputs": [
        {
          "output_type": "stream",
          "name": "stdout",
          "text": [
            "Digite o 1º numero: 5\n",
            "Digite o 2º numero: 6\n",
            "\n",
            " Escolha a operação desejada:\n",
            " 1) para somar. \n",
            " 2) para subtrair. \n",
            " 3) para multiplicar. \n",
            " 4) para dividir. \n",
            " 0 - para SAIR. \n",
            "\n",
            "Digite o operador desejado: 0\n",
            "calculadora encerrada.\n",
            "O resultado é:  escolha uma opção válida!\n"
          ]
        }
      ],
      "source": [
        "n1 = int (input(\"Digite o 1º numero: \"))\n",
        "n2 = int (input(\"Digite o 2º numero: \"))\n",
        "print(\"\\n Escolha a operação desejada:\\n 1) para somar. \\n 2) para subtrair. \\n 3) para multiplicar. \\n 4) para dividir. \\n 0 - para SAIR. \\n\")\n",
        "op = int (input(\"Digite o operador desejado: \"))\n",
        "\n",
        "if (op == 0):\n",
        "    print(\"calculadora encerrada.\")\n",
        "    #break (ver com grupo)\n",
        "\n",
        "def calc(op):\n",
        "\n",
        "\n",
        "\n",
        "  match op:\n",
        "\n",
        "        case 1:\n",
        "            return n1 + n2\n",
        "        case 2:\n",
        "            return n1 - n2\n",
        "        case 3:\n",
        "            return n1 * n2\n",
        "        case 4:\n",
        "            return n1 / n2\n",
        "        #case 0:\n",
        "            #return\n",
        "        case _:\n",
        "            return \"escolha uma opção válida!\"\n",
        "\n",
        "print(\"O resultado é: \", calc(op))\n",
        ""
      ]
    }
  ]
}