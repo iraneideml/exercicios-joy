{
  "nbformat": 4,
  "nbformat_minor": 0,
  "metadata": {
    "colab": {
      "provenance": [],
      "authorship_tag": "ABX9TyNwwY3O4mbVqA+LG4FIRO/5",
      "include_colab_link": true
    },
    "kernelspec": {
      "name": "python3",
      "display_name": "Python 3"
    },
    "language_info": {
      "name": "python"
    }
  },
  "cells": [
    {
      "cell_type": "markdown",
      "metadata": {
        "id": "view-in-github",
        "colab_type": "text"
      },
      "source": [
        "<a href=\"https://colab.research.google.com/github/iraneideml/exercicios-joy/blob/main/atividade_joy_arrays2.ipynb\" target=\"_parent\"><img src=\"https://colab.research.google.com/assets/colab-badge.svg\" alt=\"Open In Colab\"/></a>"
      ]
    },
    {
      "cell_type": "markdown",
      "source": [
        "Copie o array apresentado embaixo no seu editor de código, e imprima no terminal: a quantidade de elementos que ele possui, o dado salvo no índice 2, o dado salvo no índice 9, e dado salvo no índice 14.\n",
        "\n",
        "lista_musicos = [ 'Djavan', 'Roberto Carlos', 'Elis Regina', 'Tom Jobim', 'Milton Nascimento', 'Chico Buarque', 'Nara Leão', 'Pitty', 'Simonal', 'Moacir Santos', 'Caetano Veloso', 'Elza Soares', 'Paulinho da Viola', 'Yamandú Costa', 'Gal Costa']"
      ],
      "metadata": {
        "id": "V1bEdUl_02LT"
      }
    },
    {
      "cell_type": "code",
      "execution_count": 24,
      "metadata": {
        "colab": {
          "base_uri": "https://localhost:8080/"
        },
        "id": "4WK4sxOZzfz-",
        "outputId": "e65c30c4-339c-4fd0-ae5e-a9ae23c01d5f"
      },
      "outputs": [
        {
          "output_type": "stream",
          "name": "stdout",
          "text": [
            "O array possui 15 elementos\n",
            "O elemento do índice 2 é:  Elis Regina \n",
            "O elemento do índice 9 é:  Moacir Santos \n",
            "O elemento do índice 14 é:  Gal Costa\n"
          ]
        }
      ],
      "source": [
        "#quantificando elementos do array\n",
        "lista_musicos = [ 'Djavan', 'Roberto Carlos', 'Elis Regina', 'Tom Jobim', 'Milton Nascimento', 'Chico Buarque', 'Nara Leão', 'Pitty',\n",
        "                 'Simonal', 'Moacir Santos', 'Caetano Veloso', 'Elza Soares', 'Paulinho da Viola', 'Yamandú Costa', 'Gal Costa']\n",
        "\n",
        "lista_musicos = len(lista_musicos)\n",
        "print(\"O array possui\", lista_musicos, \"elementos\")\n",
        "\n",
        "#elementos por índice\n",
        "lista_musicos = [ 'Djavan', 'Roberto Carlos', 'Elis Regina', 'Tom Jobim', 'Milton Nascimento', 'Chico Buarque', 'Nara Leão', 'Pitty',\n",
        "                 'Simonal', 'Moacir Santos', 'Caetano Veloso', 'Elza Soares', 'Paulinho da Viola', 'Yamandú Costa', 'Gal Costa']\n",
        "\n",
        "indice2 = lista_musicos[2]\n",
        "indice9 = lista_musicos[9]\n",
        "indice14 = lista_musicos[14]\n",
        "\n",
        "print(\"O elemento do índice 2 é: \", indice2, \"\\nO elemento do índice 9 é: \", indice9, \"\\nO elemento do índice 14 é: \", indice14)\n"
      ]
    }
  ]
}