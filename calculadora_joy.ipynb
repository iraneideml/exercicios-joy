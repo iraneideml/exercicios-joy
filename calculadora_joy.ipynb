{
  "nbformat": 4,
  "nbformat_minor": 0,
  "metadata": {
    "colab": {
      "provenance": [],
      "authorship_tag": "ABX9TyOXIUiYINha/395UXtfxVfC",
      "include_colab_link": true
    },
    "kernelspec": {
      "name": "python3",
      "display_name": "Python 3"
    },
    "language_info": {
      "name": "python"
    }
  },
  "cells": [
    {
      "cell_type": "markdown",
      "metadata": {
        "id": "view-in-github",
        "colab_type": "text"
      },
      "source": [
        "<a href=\"https://colab.research.google.com/github/iraneideml/exercicios-joy/blob/main/calculadora_joy.ipynb\" target=\"_parent\"><img src=\"https://colab.research.google.com/assets/colab-badge.svg\" alt=\"Open In Colab\"/></a>"
      ]
    },
    {
      "cell_type": "markdown",
      "source": [
        "Faça uma função calculadora de dois números com três parâmetros: os dois primeiros serão os números da operação e o terceiro será a entrada que definirá a operação a ser executada. Considera a seguinte definição:\n",
        "1. Soma\n",
        "2. Subtração\n",
        "3. Multiplicação\n",
        "4. Divisão\n",
        "\n",
        "Caso seja inserido um número de operação que não exista, o resultado deverá ser 0.\n",
        "\n",
        "Trabalhe esse código em seu IDE, suba ele para sua conta no GitHub e compartilhe o link desse projeto no campo ao lado para que outros desenvolvedores possam analisá-lo. **texto em negrito**"
      ],
      "metadata": {
        "id": "xmEMW4rWHj60"
      }
    },
    {
      "cell_type": "code",
      "execution_count": 34,
      "metadata": {
        "colab": {
          "base_uri": "https://localhost:8080/"
        },
        "id": "PP19x9GYHjEP",
        "outputId": "a4d83d1a-828c-4c8a-b0c5-0dbf0f3b8577"
      },
      "outputs": [
        {
          "output_type": "stream",
          "name": "stdout",
          "text": [
            "Escolha 1) para soma - 2) subtração - 3) multiplicação - 4 divisão: 3\n",
            "40\n"
          ]
        }
      ],
      "source": [
        "op = int(input(\"Escolha 1) para soma - 2) subtração - 3) multiplicação - 4 divisão: \"))\n",
        "n1 = 5; n2 = 8\n",
        "\n",
        "print(calc(op))\n",
        "\n",
        "def calc(op):\n",
        "  match op:\n",
        "        case 1:\n",
        "            return n1 + n2\n",
        "        case 2:\n",
        "            return n1 - n2\n",
        "        case 3:\n",
        "            return n1 * n2\n",
        "        case 4:\n",
        "            return n1 / n2\n",
        "        case _:\n",
        "            return n1, op, n2\n",
        "\n",
        "\n",
        "\n",
        "\n",
        "\n",
        "\n",
        "\n",
        "\n"
      ]
    }
  ]
}