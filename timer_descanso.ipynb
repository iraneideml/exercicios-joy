{
  "nbformat": 4,
  "nbformat_minor": 0,
  "metadata": {
    "colab": {
      "provenance": [],
      "authorship_tag": "ABX9TyNrOpXH4N/ZyMJjLQr+j2rR",
      "include_colab_link": true
    },
    "kernelspec": {
      "name": "python3",
      "display_name": "Python 3"
    },
    "language_info": {
      "name": "python"
    }
  },
  "cells": [
    {
      "cell_type": "markdown",
      "metadata": {
        "id": "view-in-github",
        "colab_type": "text"
      },
      "source": [
        "<a href=\"https://colab.research.google.com/github/iraneideml/iramartins/blob/main/timer_descanso.ipynb\" target=\"_parent\"><img src=\"https://colab.research.google.com/assets/colab-badge.svg\" alt=\"Open In Colab\"/></a>"
      ]
    },
    {
      "cell_type": "code",
      "source": [
        "andarTerreo = 1; cobertura=20\n",
        "\n",
        "for i in range(andarTerreo, cobertura+1):\n",
        "  if i==13:\n",
        "    continue\n",
        "    if i==20:\n",
        "\n",
        "\n",
        "  print(i , \"andar\")\n",
        "\n"
      ],
      "metadata": {
        "id": "N_QP-WwApI5X"
      },
      "execution_count": null,
      "outputs": []
    },
    {
      "cell_type": "code",
      "source": [],
      "metadata": {
        "id": "5tZJQCzyt9GU"
      },
      "execution_count": null,
      "outputs": []
    },
    {
      "cell_type": "code",
      "execution_count": null,
      "metadata": {
        "id": "KaXmIlYphiLT"
      },
      "outputs": [],
      "source": [
        "import time\n",
        "\n",
        "tempoInicial = 1\n",
        "tempoFinal = 45\n",
        "\n",
        "print(\"Iniciando descanso...\")\n",
        "\n",
        "for i in range(tempoInicial,tempoFinal+1):\n",
        "  print(i)\n",
        "time.sleep(1)\n",
        "\n",
        "print (\"Fim do descanso!\")"
      ]
    }
  ]
}