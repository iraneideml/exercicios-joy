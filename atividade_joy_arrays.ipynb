{
  "nbformat": 4,
  "nbformat_minor": 0,
  "metadata": {
    "colab": {
      "provenance": [],
      "authorship_tag": "ABX9TyMOMmmiU2M3+1pZpWtHI+PD",
      "include_colab_link": true
    },
    "kernelspec": {
      "name": "python3",
      "display_name": "Python 3"
    },
    "language_info": {
      "name": "python"
    }
  },
  "cells": [
    {
      "cell_type": "markdown",
      "metadata": {
        "id": "view-in-github",
        "colab_type": "text"
      },
      "source": [
        "<a href=\"https://colab.research.google.com/github/iraneideml/exercicios-joy/blob/main/atividade_joy_arrays.ipynb\" target=\"_parent\"><img src=\"https://colab.research.google.com/assets/colab-badge.svg\" alt=\"Open In Colab\"/></a>"
      ]
    },
    {
      "cell_type": "markdown",
      "source": [
        "Declare dois arrays, cada um com um mínimo de cinco elementos, e imprima eles no terminal usando o comando print(). O primeiro array deve conter os produtos de uma loja da sua escolha (loja de comida, materiais de construção, música, etc). O segundo array deve conter os anos de nascimento de familiares e amigos seus. Lembre-se de usar nomes descritivos para nomear cada variável, e de usar o tipo de dado apropriado para cada lista (strings, booleanos, números inteiros, floats).\n",
        "\n"
      ],
      "metadata": {
        "id": "E0bW1Mof-eUb"
      }
    },
    {
      "cell_type": "code",
      "execution_count": 25,
      "metadata": {
        "id": "u-JwMOFb-dPs",
        "colab": {
          "base_uri": "https://localhost:8080/"
        },
        "outputId": "8bf43d53-909f-4e42-e9ee-5bdfd76c8cae"
      },
      "outputs": [
        {
          "output_type": "stream",
          "name": "stdout",
          "text": [
            "Estoque de produtos musicais:  ['guitarra', 'teclado', 'microfone', 'carron', 'acordeon', 'bateria']\n",
            "Data de nascimento dos familiares:  ['21/06/2001', '17/06/2004', '13/04/1984', '27/11/193', '20/07/1955']\n",
            "Estoque de produtos musicais:  ['bateria', 'acordeon', 'carron', 'microfone', 'teclado', 'guitarra']\n",
            "Data de nascimento dos familiares:  ['20/07/1955', '27/11/193', '13/04/1984', '17/06/2004', '21/06/2001']\n"
          ]
        }
      ],
      "source": [
        "produtos = [\"guitarra\", \"teclado\", \"microfone\", \"carron\",\"acordeon\", \"bateria\"]\n",
        "familiares = [\"21/06/2001\", \"17/06/2004\",\"13/04/1984\", \"27/11/193\", \"20/07/1955\"]\n",
        "\n",
        "print(\"Estoque de produtos musicais: \",produtos)\n",
        "print(\"Data de nascimento dos familiares: \",familiares)\n",
        "\n",
        "produtos.reverse()\n",
        "print(\"Estoque de produtos musicais: \",produtos)\n",
        "familiares.reverse()\n",
        "print(\"Data de nascimento dos familiares: \",familiares)"
      ]
    }
  ]
}