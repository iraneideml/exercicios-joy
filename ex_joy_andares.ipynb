{
  "nbformat": 4,
  "nbformat_minor": 0,
  "metadata": {
    "colab": {
      "provenance": [],
      "authorship_tag": "ABX9TyPDYDxNqS1e5hzGH6V8Gx1j",
      "include_colab_link": true
    },
    "kernelspec": {
      "name": "python3",
      "display_name": "Python 3"
    },
    "language_info": {
      "name": "python"
    }
  },
  "cells": [
    {
      "cell_type": "markdown",
      "metadata": {
        "id": "view-in-github",
        "colab_type": "text"
      },
      "source": [
        "<a href=\"https://colab.research.google.com/github/iraneideml/exercicios-joy/blob/main/ex_joy_andares.ipynb\" target=\"_parent\"><img src=\"https://colab.research.google.com/assets/colab-badge.svg\" alt=\"Open In Colab\"/></a>"
      ]
    },
    {
      "cell_type": "code",
      "source": [
        "#imprimir andares menos o 13º\n",
        "andarTerreo = 1; cobertura=20\n",
        "\n",
        "for i in range(andarTerreo, cobertura+1):\n",
        "  if i==13:\n",
        "    continue\n",
        "    if i==20:\n",
        "\n",
        "\n",
        "  print(i , \"andar\")\n",
        "\n"
      ],
      "metadata": {
        "id": "N_QP-WwApI5X"
      },
      "execution_count": null,
      "outputs": []
    },
    {
      "cell_type": "code",
      "source": [
        "#imprimir andares menos o 13º com outras estruturas de repetição \"while\"\n",
        "\n",
        "i = 1\n",
        "while i <= 20:\n",
        "  if (i == 13):\n",
        "    i = i + 1\n",
        "    continue\n",
        "  else:\n",
        "    print (i)\n",
        "    i = i + 1"
      ],
      "metadata": {
        "id": "5tZJQCzyt9GU"
      },
      "execution_count": null,
      "outputs": []
    },
    {
      "cell_type": "code",
      "source": [
        "#imprimir decrescente\n",
        "for i in range (20, 1, -1):\n",
        "  if (i == 13):\n",
        "    continue\n",
        "  else:\n",
        "    print (i)"
      ],
      "metadata": {
        "colab": {
          "base_uri": "https://localhost:8080/"
        },
        "id": "E6rW8OVY1yD3",
        "outputId": "a97674ce-d77e-4d30-c40e-7dc66a7aac00"
      },
      "execution_count": 6,
      "outputs": [
        {
          "output_type": "stream",
          "name": "stdout",
          "text": [
            "20\n",
            "19\n",
            "18\n",
            "17\n",
            "16\n",
            "15\n",
            "14\n",
            "12\n",
            "11\n",
            "10\n",
            "9\n",
            "8\n",
            "7\n",
            "6\n",
            "5\n",
            "4\n",
            "3\n",
            "2\n"
          ]
        }
      ]
    },
    {
      "cell_type": "code",
      "execution_count": null,
      "metadata": {
        "id": "KaXmIlYphiLT"
      },
      "outputs": [],
      "source": [
        "import time\n",
        "\n",
        "tempoInicial = 1\n",
        "tempoFinal = 45\n",
        "\n",
        "print(\"Iniciando descanso...\")\n",
        "\n",
        "for i in range(tempoInicial,tempoFinal+1):\n",
        "  print(i)\n",
        "time.sleep(1)\n",
        "\n",
        "print (\"Fim do descanso!\")"
      ]
    }
  ]
}